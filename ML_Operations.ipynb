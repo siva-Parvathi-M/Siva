{
  "nbformat": 4,
  "nbformat_minor": 0,
  "metadata": {
    "colab": {
      "provenance": [],
      "mount_file_id": "1wiaSPAWHg95K925biQWuW9OC_USNMN7-",
      "authorship_tag": "ABX9TyPUvP7TAeu4qRelgBLGfj4A",
      "include_colab_link": true
    },
    "kernelspec": {
      "name": "python3",
      "display_name": "Python 3"
    },
    "language_info": {
      "name": "python"
    }
  },
  "cells": [
    {
      "cell_type": "markdown",
      "metadata": {
        "id": "view-in-github",
        "colab_type": "text"
      },
      "source": [
        "<a href=\"https://colab.research.google.com/github/siva-Parvathi-M/Siva/blob/main/ML_Operations.ipynb\" target=\"_parent\"><img src=\"https://colab.research.google.com/assets/colab-badge.svg\" alt=\"Open In Colab\"/></a>"
      ]
    },
    {
      "cell_type": "code",
      "execution_count": 4,
      "metadata": {
        "colab": {
          "base_uri": "https://localhost:8080/",
          "height": 446
        },
        "id": "HHEzvjxNip3L",
        "outputId": "15371e1e-e6f1-473b-e18d-385e6f981abd"
      },
      "outputs": [
        {
          "output_type": "execute_result",
          "data": {
            "text/plain": [
              "    Order ID Order Date   Ship Date Qtr  Aging            c    Ship Mode  \\\n",
              "0  AU-2015-1  11/9/2015  11/17/2015  Q4      8  first class  First Class   \n",
              "1  AU-2015-2  6/30/2015    7/2/2015  Q2      2  first class  First Class   \n",
              "2  AU-2015-3  12/5/2015  12/13/2015  Q4      8  first class  First Class   \n",
              "3  AU-2015-4   5/9/2015   5/16/2015  Q2      7  first class  First Class   \n",
              "4  AU-2015-5   7/9/2015   7/18/2015  Q3      9  first class  First Class   \n",
              "\n",
              "     Product Category  Quantity            Product  ...  Shipping Cost  \\\n",
              "0  Auto & Accessories         1  Car Media Players  ...          $4.6    \n",
              "1  Auto & Accessories         1       Car Speakers  ...         $11.2    \n",
              "2  Auto & Accessories         5    Car Body Covers  ...          $3.1    \n",
              "3  Auto & Accessories         4    Car & Bike Care  ...          $2.6    \n",
              "4  Auto & Accessories         5               Tyre  ...         $16.0    \n",
              "\n",
              "   Order Priority Customer ID    Customer Name      Segment        City  \\\n",
              "0          Medium      LS-001     Lane Daniels     Consumer    Brisbane   \n",
              "1          Medium      IZ-002    Alvarado Kriz  Home Office      Berlin   \n",
              "2        Critical      EN-003       Moon Weien     Consumer     Porirua   \n",
              "3            High      AN-004  Sanchez Bergman    Corporate       Kabul   \n",
              "4        Critical      ON-005     Rowe Jackson    Corporate  Townsville   \n",
              "\n",
              "        State      Country        Region Months  \n",
              "0  Queensland    Australia       Oceania    Nov  \n",
              "1      Berlin      Germany       Central    Jun  \n",
              "2  Wellington  New Zealand       Oceania    Dec  \n",
              "3       Kabul  Afghanistan  Central Asia    May  \n",
              "4  Queensland    Australia       Oceania    Jul  \n",
              "\n",
              "[5 rows x 23 columns]"
            ],
            "text/html": [
              "\n",
              "  <div id=\"df-c40bb351-6b52-4a56-8607-bd8bac08f451\" class=\"colab-df-container\">\n",
              "    <div>\n",
              "<style scoped>\n",
              "    .dataframe tbody tr th:only-of-type {\n",
              "        vertical-align: middle;\n",
              "    }\n",
              "\n",
              "    .dataframe tbody tr th {\n",
              "        vertical-align: top;\n",
              "    }\n",
              "\n",
              "    .dataframe thead th {\n",
              "        text-align: right;\n",
              "    }\n",
              "</style>\n",
              "<table border=\"1\" class=\"dataframe\">\n",
              "  <thead>\n",
              "    <tr style=\"text-align: right;\">\n",
              "      <th></th>\n",
              "      <th>Order ID</th>\n",
              "      <th>Order Date</th>\n",
              "      <th>Ship Date</th>\n",
              "      <th>Qtr</th>\n",
              "      <th>Aging</th>\n",
              "      <th>c</th>\n",
              "      <th>Ship Mode</th>\n",
              "      <th>Product Category</th>\n",
              "      <th>Quantity</th>\n",
              "      <th>Product</th>\n",
              "      <th>...</th>\n",
              "      <th>Shipping Cost</th>\n",
              "      <th>Order Priority</th>\n",
              "      <th>Customer ID</th>\n",
              "      <th>Customer Name</th>\n",
              "      <th>Segment</th>\n",
              "      <th>City</th>\n",
              "      <th>State</th>\n",
              "      <th>Country</th>\n",
              "      <th>Region</th>\n",
              "      <th>Months</th>\n",
              "    </tr>\n",
              "  </thead>\n",
              "  <tbody>\n",
              "    <tr>\n",
              "      <th>0</th>\n",
              "      <td>AU-2015-1</td>\n",
              "      <td>11/9/2015</td>\n",
              "      <td>11/17/2015</td>\n",
              "      <td>Q4</td>\n",
              "      <td>8</td>\n",
              "      <td>first class</td>\n",
              "      <td>First Class</td>\n",
              "      <td>Auto &amp; Accessories</td>\n",
              "      <td>1</td>\n",
              "      <td>Car Media Players</td>\n",
              "      <td>...</td>\n",
              "      <td>$4.6</td>\n",
              "      <td>Medium</td>\n",
              "      <td>LS-001</td>\n",
              "      <td>Lane Daniels</td>\n",
              "      <td>Consumer</td>\n",
              "      <td>Brisbane</td>\n",
              "      <td>Queensland</td>\n",
              "      <td>Australia</td>\n",
              "      <td>Oceania</td>\n",
              "      <td>Nov</td>\n",
              "    </tr>\n",
              "    <tr>\n",
              "      <th>1</th>\n",
              "      <td>AU-2015-2</td>\n",
              "      <td>6/30/2015</td>\n",
              "      <td>7/2/2015</td>\n",
              "      <td>Q2</td>\n",
              "      <td>2</td>\n",
              "      <td>first class</td>\n",
              "      <td>First Class</td>\n",
              "      <td>Auto &amp; Accessories</td>\n",
              "      <td>1</td>\n",
              "      <td>Car Speakers</td>\n",
              "      <td>...</td>\n",
              "      <td>$11.2</td>\n",
              "      <td>Medium</td>\n",
              "      <td>IZ-002</td>\n",
              "      <td>Alvarado Kriz</td>\n",
              "      <td>Home Office</td>\n",
              "      <td>Berlin</td>\n",
              "      <td>Berlin</td>\n",
              "      <td>Germany</td>\n",
              "      <td>Central</td>\n",
              "      <td>Jun</td>\n",
              "    </tr>\n",
              "    <tr>\n",
              "      <th>2</th>\n",
              "      <td>AU-2015-3</td>\n",
              "      <td>12/5/2015</td>\n",
              "      <td>12/13/2015</td>\n",
              "      <td>Q4</td>\n",
              "      <td>8</td>\n",
              "      <td>first class</td>\n",
              "      <td>First Class</td>\n",
              "      <td>Auto &amp; Accessories</td>\n",
              "      <td>5</td>\n",
              "      <td>Car Body Covers</td>\n",
              "      <td>...</td>\n",
              "      <td>$3.1</td>\n",
              "      <td>Critical</td>\n",
              "      <td>EN-003</td>\n",
              "      <td>Moon Weien</td>\n",
              "      <td>Consumer</td>\n",
              "      <td>Porirua</td>\n",
              "      <td>Wellington</td>\n",
              "      <td>New Zealand</td>\n",
              "      <td>Oceania</td>\n",
              "      <td>Dec</td>\n",
              "    </tr>\n",
              "    <tr>\n",
              "      <th>3</th>\n",
              "      <td>AU-2015-4</td>\n",
              "      <td>5/9/2015</td>\n",
              "      <td>5/16/2015</td>\n",
              "      <td>Q2</td>\n",
              "      <td>7</td>\n",
              "      <td>first class</td>\n",
              "      <td>First Class</td>\n",
              "      <td>Auto &amp; Accessories</td>\n",
              "      <td>4</td>\n",
              "      <td>Car &amp; Bike Care</td>\n",
              "      <td>...</td>\n",
              "      <td>$2.6</td>\n",
              "      <td>High</td>\n",
              "      <td>AN-004</td>\n",
              "      <td>Sanchez Bergman</td>\n",
              "      <td>Corporate</td>\n",
              "      <td>Kabul</td>\n",
              "      <td>Kabul</td>\n",
              "      <td>Afghanistan</td>\n",
              "      <td>Central Asia</td>\n",
              "      <td>May</td>\n",
              "    </tr>\n",
              "    <tr>\n",
              "      <th>4</th>\n",
              "      <td>AU-2015-5</td>\n",
              "      <td>7/9/2015</td>\n",
              "      <td>7/18/2015</td>\n",
              "      <td>Q3</td>\n",
              "      <td>9</td>\n",
              "      <td>first class</td>\n",
              "      <td>First Class</td>\n",
              "      <td>Auto &amp; Accessories</td>\n",
              "      <td>5</td>\n",
              "      <td>Tyre</td>\n",
              "      <td>...</td>\n",
              "      <td>$16.0</td>\n",
              "      <td>Critical</td>\n",
              "      <td>ON-005</td>\n",
              "      <td>Rowe Jackson</td>\n",
              "      <td>Corporate</td>\n",
              "      <td>Townsville</td>\n",
              "      <td>Queensland</td>\n",
              "      <td>Australia</td>\n",
              "      <td>Oceania</td>\n",
              "      <td>Jul</td>\n",
              "    </tr>\n",
              "  </tbody>\n",
              "</table>\n",
              "<p>5 rows × 23 columns</p>\n",
              "</div>\n",
              "    <div class=\"colab-df-buttons\">\n",
              "\n",
              "  <div class=\"colab-df-container\">\n",
              "    <button class=\"colab-df-convert\" onclick=\"convertToInteractive('df-c40bb351-6b52-4a56-8607-bd8bac08f451')\"\n",
              "            title=\"Convert this dataframe to an interactive table.\"\n",
              "            style=\"display:none;\">\n",
              "\n",
              "  <svg xmlns=\"http://www.w3.org/2000/svg\" height=\"24px\" viewBox=\"0 -960 960 960\">\n",
              "    <path d=\"M120-120v-720h720v720H120Zm60-500h600v-160H180v160Zm220 220h160v-160H400v160Zm0 220h160v-160H400v160ZM180-400h160v-160H180v160Zm440 0h160v-160H620v160ZM180-180h160v-160H180v160Zm440 0h160v-160H620v160Z\"/>\n",
              "  </svg>\n",
              "    </button>\n",
              "\n",
              "  <style>\n",
              "    .colab-df-container {\n",
              "      display:flex;\n",
              "      gap: 12px;\n",
              "    }\n",
              "\n",
              "    .colab-df-convert {\n",
              "      background-color: #E8F0FE;\n",
              "      border: none;\n",
              "      border-radius: 50%;\n",
              "      cursor: pointer;\n",
              "      display: none;\n",
              "      fill: #1967D2;\n",
              "      height: 32px;\n",
              "      padding: 0 0 0 0;\n",
              "      width: 32px;\n",
              "    }\n",
              "\n",
              "    .colab-df-convert:hover {\n",
              "      background-color: #E2EBFA;\n",
              "      box-shadow: 0px 1px 2px rgba(60, 64, 67, 0.3), 0px 1px 3px 1px rgba(60, 64, 67, 0.15);\n",
              "      fill: #174EA6;\n",
              "    }\n",
              "\n",
              "    .colab-df-buttons div {\n",
              "      margin-bottom: 4px;\n",
              "    }\n",
              "\n",
              "    [theme=dark] .colab-df-convert {\n",
              "      background-color: #3B4455;\n",
              "      fill: #D2E3FC;\n",
              "    }\n",
              "\n",
              "    [theme=dark] .colab-df-convert:hover {\n",
              "      background-color: #434B5C;\n",
              "      box-shadow: 0px 1px 3px 1px rgba(0, 0, 0, 0.15);\n",
              "      filter: drop-shadow(0px 1px 2px rgba(0, 0, 0, 0.3));\n",
              "      fill: #FFFFFF;\n",
              "    }\n",
              "  </style>\n",
              "\n",
              "    <script>\n",
              "      const buttonEl =\n",
              "        document.querySelector('#df-c40bb351-6b52-4a56-8607-bd8bac08f451 button.colab-df-convert');\n",
              "      buttonEl.style.display =\n",
              "        google.colab.kernel.accessAllowed ? 'block' : 'none';\n",
              "\n",
              "      async function convertToInteractive(key) {\n",
              "        const element = document.querySelector('#df-c40bb351-6b52-4a56-8607-bd8bac08f451');\n",
              "        const dataTable =\n",
              "          await google.colab.kernel.invokeFunction('convertToInteractive',\n",
              "                                                    [key], {});\n",
              "        if (!dataTable) return;\n",
              "\n",
              "        const docLinkHtml = 'Like what you see? Visit the ' +\n",
              "          '<a target=\"_blank\" href=https://colab.research.google.com/notebooks/data_table.ipynb>data table notebook</a>'\n",
              "          + ' to learn more about interactive tables.';\n",
              "        element.innerHTML = '';\n",
              "        dataTable['output_type'] = 'display_data';\n",
              "        await google.colab.output.renderOutput(dataTable, element);\n",
              "        const docLink = document.createElement('div');\n",
              "        docLink.innerHTML = docLinkHtml;\n",
              "        element.appendChild(docLink);\n",
              "      }\n",
              "    </script>\n",
              "  </div>\n",
              "\n",
              "\n",
              "<div id=\"df-286ba7d9-1368-4925-a8a5-467940777740\">\n",
              "  <button class=\"colab-df-quickchart\" onclick=\"quickchart('df-286ba7d9-1368-4925-a8a5-467940777740')\"\n",
              "            title=\"Suggest charts\"\n",
              "            style=\"display:none;\">\n",
              "\n",
              "<svg xmlns=\"http://www.w3.org/2000/svg\" height=\"24px\"viewBox=\"0 0 24 24\"\n",
              "     width=\"24px\">\n",
              "    <g>\n",
              "        <path d=\"M19 3H5c-1.1 0-2 .9-2 2v14c0 1.1.9 2 2 2h14c1.1 0 2-.9 2-2V5c0-1.1-.9-2-2-2zM9 17H7v-7h2v7zm4 0h-2V7h2v10zm4 0h-2v-4h2v4z\"/>\n",
              "    </g>\n",
              "</svg>\n",
              "  </button>\n",
              "\n",
              "<style>\n",
              "  .colab-df-quickchart {\n",
              "      --bg-color: #E8F0FE;\n",
              "      --fill-color: #1967D2;\n",
              "      --hover-bg-color: #E2EBFA;\n",
              "      --hover-fill-color: #174EA6;\n",
              "      --disabled-fill-color: #AAA;\n",
              "      --disabled-bg-color: #DDD;\n",
              "  }\n",
              "\n",
              "  [theme=dark] .colab-df-quickchart {\n",
              "      --bg-color: #3B4455;\n",
              "      --fill-color: #D2E3FC;\n",
              "      --hover-bg-color: #434B5C;\n",
              "      --hover-fill-color: #FFFFFF;\n",
              "      --disabled-bg-color: #3B4455;\n",
              "      --disabled-fill-color: #666;\n",
              "  }\n",
              "\n",
              "  .colab-df-quickchart {\n",
              "    background-color: var(--bg-color);\n",
              "    border: none;\n",
              "    border-radius: 50%;\n",
              "    cursor: pointer;\n",
              "    display: none;\n",
              "    fill: var(--fill-color);\n",
              "    height: 32px;\n",
              "    padding: 0;\n",
              "    width: 32px;\n",
              "  }\n",
              "\n",
              "  .colab-df-quickchart:hover {\n",
              "    background-color: var(--hover-bg-color);\n",
              "    box-shadow: 0 1px 2px rgba(60, 64, 67, 0.3), 0 1px 3px 1px rgba(60, 64, 67, 0.15);\n",
              "    fill: var(--button-hover-fill-color);\n",
              "  }\n",
              "\n",
              "  .colab-df-quickchart-complete:disabled,\n",
              "  .colab-df-quickchart-complete:disabled:hover {\n",
              "    background-color: var(--disabled-bg-color);\n",
              "    fill: var(--disabled-fill-color);\n",
              "    box-shadow: none;\n",
              "  }\n",
              "\n",
              "  .colab-df-spinner {\n",
              "    border: 2px solid var(--fill-color);\n",
              "    border-color: transparent;\n",
              "    border-bottom-color: var(--fill-color);\n",
              "    animation:\n",
              "      spin 1s steps(1) infinite;\n",
              "  }\n",
              "\n",
              "  @keyframes spin {\n",
              "    0% {\n",
              "      border-color: transparent;\n",
              "      border-bottom-color: var(--fill-color);\n",
              "      border-left-color: var(--fill-color);\n",
              "    }\n",
              "    20% {\n",
              "      border-color: transparent;\n",
              "      border-left-color: var(--fill-color);\n",
              "      border-top-color: var(--fill-color);\n",
              "    }\n",
              "    30% {\n",
              "      border-color: transparent;\n",
              "      border-left-color: var(--fill-color);\n",
              "      border-top-color: var(--fill-color);\n",
              "      border-right-color: var(--fill-color);\n",
              "    }\n",
              "    40% {\n",
              "      border-color: transparent;\n",
              "      border-right-color: var(--fill-color);\n",
              "      border-top-color: var(--fill-color);\n",
              "    }\n",
              "    60% {\n",
              "      border-color: transparent;\n",
              "      border-right-color: var(--fill-color);\n",
              "    }\n",
              "    80% {\n",
              "      border-color: transparent;\n",
              "      border-right-color: var(--fill-color);\n",
              "      border-bottom-color: var(--fill-color);\n",
              "    }\n",
              "    90% {\n",
              "      border-color: transparent;\n",
              "      border-bottom-color: var(--fill-color);\n",
              "    }\n",
              "  }\n",
              "</style>\n",
              "\n",
              "  <script>\n",
              "    async function quickchart(key) {\n",
              "      const quickchartButtonEl =\n",
              "        document.querySelector('#' + key + ' button');\n",
              "      quickchartButtonEl.disabled = true;  // To prevent multiple clicks.\n",
              "      quickchartButtonEl.classList.add('colab-df-spinner');\n",
              "      try {\n",
              "        const charts = await google.colab.kernel.invokeFunction(\n",
              "            'suggestCharts', [key], {});\n",
              "      } catch (error) {\n",
              "        console.error('Error during call to suggestCharts:', error);\n",
              "      }\n",
              "      quickchartButtonEl.classList.remove('colab-df-spinner');\n",
              "      quickchartButtonEl.classList.add('colab-df-quickchart-complete');\n",
              "    }\n",
              "    (() => {\n",
              "      let quickchartButtonEl =\n",
              "        document.querySelector('#df-286ba7d9-1368-4925-a8a5-467940777740 button');\n",
              "      quickchartButtonEl.style.display =\n",
              "        google.colab.kernel.accessAllowed ? 'block' : 'none';\n",
              "    })();\n",
              "  </script>\n",
              "</div>\n",
              "\n",
              "    </div>\n",
              "  </div>\n"
            ],
            "application/vnd.google.colaboratory.intrinsic+json": {
              "type": "dataframe",
              "variable_name": "df"
            }
          },
          "metadata": {},
          "execution_count": 4
        }
      ],
      "source": [
        "import pandas as pd\n",
        "\n",
        "# Define source CSV file path\n",
        "source_file_path = \"/content/drive/MyDrive/Colab Notebooks/Source Data/Big data.csv\"  # Update with the correct path\n",
        "\n",
        "# Load data into a Pandas DataFrame\n",
        "df = pd.read_csv(source_file_path)\n",
        "\n",
        "# Display first few rows\n",
        "df.head()"
      ]
    },
    {
      "cell_type": "code",
      "source": [
        "print(df.columns)"
      ],
      "metadata": {
        "colab": {
          "base_uri": "https://localhost:8080/"
        },
        "id": "7R_WKGI3nnWq",
        "outputId": "fdfad8ab-f3bb-4c6e-dea8-954fd276116f"
      },
      "execution_count": 7,
      "outputs": [
        {
          "output_type": "stream",
          "name": "stdout",
          "text": [
            "Index(['Order ID', 'Order Date', 'Ship Date', 'Qtr', 'Aging', 'c', 'Ship Mode',\n",
            "       'Product Category', 'Quantity', 'Product', ' Sales', 'Discount',\n",
            "       ' Profit', ' Shipping Cost', 'Order Priority', 'Customer ID',\n",
            "       'Customer Name', 'Segment', 'City', 'State', 'Country', 'Region',\n",
            "       'Months'],\n",
            "      dtype='object')\n"
          ]
        }
      ]
    },
    {
      "cell_type": "code",
      "source": [
        "df.columns = df.columns.str.strip()  # Remove any spaces from column names"
      ],
      "metadata": {
        "id": "EGPsxCOWnxX8"
      },
      "execution_count": 8,
      "outputs": []
    },
    {
      "cell_type": "code",
      "source": [
        "df = pd.read_csv(source_file_path, encoding='utf-8')  # or 'ISO-8859-1'"
      ],
      "metadata": {
        "id": "1toSpO2tn1tI"
      },
      "execution_count": 9,
      "outputs": []
    },
    {
      "cell_type": "code",
      "source": [
        "df.rename(columns={' Transaction_Date': 'transaction_date'}, inplace=True)"
      ],
      "metadata": {
        "id": "OaEVoRg5n8gU"
      },
      "execution_count": 10,
      "outputs": []
    },
    {
      "cell_type": "code",
      "source": [
        "import pandas as pd\n",
        "\n",
        "# Define source CSV file path\n",
        "source_file_path = \"/content/drive/MyDrive/Colab Notebooks/Source Data/Big data.csv\"\n",
        "\n",
        "# Load data and check for column issues\n",
        "df = pd.read_csv(source_file_path)\n",
        "\n",
        "# Print columns to check names\n",
        "print(\"Column Names:\", df.columns)\n",
        "\n",
        "# Strip any leading/trailing spaces from column names\n",
        "df.columns = df.columns.str.strip()\n",
        "\n",
        "# Verify column exists before using it\n",
        "if 'transaction_date' in df.columns:\n",
        "    df['transaction_date'] = pd.to_datetime(df['transaction_date'])\n",
        "else:\n",
        "    print(\"⚠️ 'transaction_date' column not found. Please check the CSV file.\")\n",
        "\n",
        "df.head()\n"
      ],
      "metadata": {
        "colab": {
          "base_uri": "https://localhost:8080/",
          "height": 568
        },
        "id": "ODo0Pbmqn79s",
        "outputId": "3bc5f3ab-1794-4b83-8b90-6cae79e2aa1a"
      },
      "execution_count": 12,
      "outputs": [
        {
          "output_type": "stream",
          "name": "stdout",
          "text": [
            "Column Names: Index(['Order ID', 'Order Date', 'Ship Date', 'Qtr', 'Aging', 'c', 'Ship Mode',\n",
            "       'Product Category', 'Quantity', 'Product', ' Sales', 'Discount',\n",
            "       ' Profit', ' Shipping Cost', 'Order Priority', 'Customer ID',\n",
            "       'Customer Name', 'Segment', 'City', 'State', 'Country', 'Region',\n",
            "       'Months'],\n",
            "      dtype='object')\n",
            "⚠️ 'transaction_date' column not found. Please check the CSV file.\n"
          ]
        },
        {
          "output_type": "execute_result",
          "data": {
            "text/plain": [
              "    Order ID Order Date   Ship Date Qtr  Aging            c    Ship Mode  \\\n",
              "0  AU-2015-1  11/9/2015  11/17/2015  Q4      8  first class  First Class   \n",
              "1  AU-2015-2  6/30/2015    7/2/2015  Q2      2  first class  First Class   \n",
              "2  AU-2015-3  12/5/2015  12/13/2015  Q4      8  first class  First Class   \n",
              "3  AU-2015-4   5/9/2015   5/16/2015  Q2      7  first class  First Class   \n",
              "4  AU-2015-5   7/9/2015   7/18/2015  Q3      9  first class  First Class   \n",
              "\n",
              "     Product Category  Quantity            Product  ... Shipping Cost  \\\n",
              "0  Auto & Accessories         1  Car Media Players  ...         $4.6    \n",
              "1  Auto & Accessories         1       Car Speakers  ...        $11.2    \n",
              "2  Auto & Accessories         5    Car Body Covers  ...         $3.1    \n",
              "3  Auto & Accessories         4    Car & Bike Care  ...         $2.6    \n",
              "4  Auto & Accessories         5               Tyre  ...        $16.0    \n",
              "\n",
              "   Order Priority Customer ID    Customer Name      Segment        City  \\\n",
              "0          Medium      LS-001     Lane Daniels     Consumer    Brisbane   \n",
              "1          Medium      IZ-002    Alvarado Kriz  Home Office      Berlin   \n",
              "2        Critical      EN-003       Moon Weien     Consumer     Porirua   \n",
              "3            High      AN-004  Sanchez Bergman    Corporate       Kabul   \n",
              "4        Critical      ON-005     Rowe Jackson    Corporate  Townsville   \n",
              "\n",
              "        State      Country        Region Months  \n",
              "0  Queensland    Australia       Oceania    Nov  \n",
              "1      Berlin      Germany       Central    Jun  \n",
              "2  Wellington  New Zealand       Oceania    Dec  \n",
              "3       Kabul  Afghanistan  Central Asia    May  \n",
              "4  Queensland    Australia       Oceania    Jul  \n",
              "\n",
              "[5 rows x 23 columns]"
            ],
            "text/html": [
              "\n",
              "  <div id=\"df-fd81d67c-3c7a-4e69-90c6-89c7cfd1a54b\" class=\"colab-df-container\">\n",
              "    <div>\n",
              "<style scoped>\n",
              "    .dataframe tbody tr th:only-of-type {\n",
              "        vertical-align: middle;\n",
              "    }\n",
              "\n",
              "    .dataframe tbody tr th {\n",
              "        vertical-align: top;\n",
              "    }\n",
              "\n",
              "    .dataframe thead th {\n",
              "        text-align: right;\n",
              "    }\n",
              "</style>\n",
              "<table border=\"1\" class=\"dataframe\">\n",
              "  <thead>\n",
              "    <tr style=\"text-align: right;\">\n",
              "      <th></th>\n",
              "      <th>Order ID</th>\n",
              "      <th>Order Date</th>\n",
              "      <th>Ship Date</th>\n",
              "      <th>Qtr</th>\n",
              "      <th>Aging</th>\n",
              "      <th>c</th>\n",
              "      <th>Ship Mode</th>\n",
              "      <th>Product Category</th>\n",
              "      <th>Quantity</th>\n",
              "      <th>Product</th>\n",
              "      <th>...</th>\n",
              "      <th>Shipping Cost</th>\n",
              "      <th>Order Priority</th>\n",
              "      <th>Customer ID</th>\n",
              "      <th>Customer Name</th>\n",
              "      <th>Segment</th>\n",
              "      <th>City</th>\n",
              "      <th>State</th>\n",
              "      <th>Country</th>\n",
              "      <th>Region</th>\n",
              "      <th>Months</th>\n",
              "    </tr>\n",
              "  </thead>\n",
              "  <tbody>\n",
              "    <tr>\n",
              "      <th>0</th>\n",
              "      <td>AU-2015-1</td>\n",
              "      <td>11/9/2015</td>\n",
              "      <td>11/17/2015</td>\n",
              "      <td>Q4</td>\n",
              "      <td>8</td>\n",
              "      <td>first class</td>\n",
              "      <td>First Class</td>\n",
              "      <td>Auto &amp; Accessories</td>\n",
              "      <td>1</td>\n",
              "      <td>Car Media Players</td>\n",
              "      <td>...</td>\n",
              "      <td>$4.6</td>\n",
              "      <td>Medium</td>\n",
              "      <td>LS-001</td>\n",
              "      <td>Lane Daniels</td>\n",
              "      <td>Consumer</td>\n",
              "      <td>Brisbane</td>\n",
              "      <td>Queensland</td>\n",
              "      <td>Australia</td>\n",
              "      <td>Oceania</td>\n",
              "      <td>Nov</td>\n",
              "    </tr>\n",
              "    <tr>\n",
              "      <th>1</th>\n",
              "      <td>AU-2015-2</td>\n",
              "      <td>6/30/2015</td>\n",
              "      <td>7/2/2015</td>\n",
              "      <td>Q2</td>\n",
              "      <td>2</td>\n",
              "      <td>first class</td>\n",
              "      <td>First Class</td>\n",
              "      <td>Auto &amp; Accessories</td>\n",
              "      <td>1</td>\n",
              "      <td>Car Speakers</td>\n",
              "      <td>...</td>\n",
              "      <td>$11.2</td>\n",
              "      <td>Medium</td>\n",
              "      <td>IZ-002</td>\n",
              "      <td>Alvarado Kriz</td>\n",
              "      <td>Home Office</td>\n",
              "      <td>Berlin</td>\n",
              "      <td>Berlin</td>\n",
              "      <td>Germany</td>\n",
              "      <td>Central</td>\n",
              "      <td>Jun</td>\n",
              "    </tr>\n",
              "    <tr>\n",
              "      <th>2</th>\n",
              "      <td>AU-2015-3</td>\n",
              "      <td>12/5/2015</td>\n",
              "      <td>12/13/2015</td>\n",
              "      <td>Q4</td>\n",
              "      <td>8</td>\n",
              "      <td>first class</td>\n",
              "      <td>First Class</td>\n",
              "      <td>Auto &amp; Accessories</td>\n",
              "      <td>5</td>\n",
              "      <td>Car Body Covers</td>\n",
              "      <td>...</td>\n",
              "      <td>$3.1</td>\n",
              "      <td>Critical</td>\n",
              "      <td>EN-003</td>\n",
              "      <td>Moon Weien</td>\n",
              "      <td>Consumer</td>\n",
              "      <td>Porirua</td>\n",
              "      <td>Wellington</td>\n",
              "      <td>New Zealand</td>\n",
              "      <td>Oceania</td>\n",
              "      <td>Dec</td>\n",
              "    </tr>\n",
              "    <tr>\n",
              "      <th>3</th>\n",
              "      <td>AU-2015-4</td>\n",
              "      <td>5/9/2015</td>\n",
              "      <td>5/16/2015</td>\n",
              "      <td>Q2</td>\n",
              "      <td>7</td>\n",
              "      <td>first class</td>\n",
              "      <td>First Class</td>\n",
              "      <td>Auto &amp; Accessories</td>\n",
              "      <td>4</td>\n",
              "      <td>Car &amp; Bike Care</td>\n",
              "      <td>...</td>\n",
              "      <td>$2.6</td>\n",
              "      <td>High</td>\n",
              "      <td>AN-004</td>\n",
              "      <td>Sanchez Bergman</td>\n",
              "      <td>Corporate</td>\n",
              "      <td>Kabul</td>\n",
              "      <td>Kabul</td>\n",
              "      <td>Afghanistan</td>\n",
              "      <td>Central Asia</td>\n",
              "      <td>May</td>\n",
              "    </tr>\n",
              "    <tr>\n",
              "      <th>4</th>\n",
              "      <td>AU-2015-5</td>\n",
              "      <td>7/9/2015</td>\n",
              "      <td>7/18/2015</td>\n",
              "      <td>Q3</td>\n",
              "      <td>9</td>\n",
              "      <td>first class</td>\n",
              "      <td>First Class</td>\n",
              "      <td>Auto &amp; Accessories</td>\n",
              "      <td>5</td>\n",
              "      <td>Tyre</td>\n",
              "      <td>...</td>\n",
              "      <td>$16.0</td>\n",
              "      <td>Critical</td>\n",
              "      <td>ON-005</td>\n",
              "      <td>Rowe Jackson</td>\n",
              "      <td>Corporate</td>\n",
              "      <td>Townsville</td>\n",
              "      <td>Queensland</td>\n",
              "      <td>Australia</td>\n",
              "      <td>Oceania</td>\n",
              "      <td>Jul</td>\n",
              "    </tr>\n",
              "  </tbody>\n",
              "</table>\n",
              "<p>5 rows × 23 columns</p>\n",
              "</div>\n",
              "    <div class=\"colab-df-buttons\">\n",
              "\n",
              "  <div class=\"colab-df-container\">\n",
              "    <button class=\"colab-df-convert\" onclick=\"convertToInteractive('df-fd81d67c-3c7a-4e69-90c6-89c7cfd1a54b')\"\n",
              "            title=\"Convert this dataframe to an interactive table.\"\n",
              "            style=\"display:none;\">\n",
              "\n",
              "  <svg xmlns=\"http://www.w3.org/2000/svg\" height=\"24px\" viewBox=\"0 -960 960 960\">\n",
              "    <path d=\"M120-120v-720h720v720H120Zm60-500h600v-160H180v160Zm220 220h160v-160H400v160Zm0 220h160v-160H400v160ZM180-400h160v-160H180v160Zm440 0h160v-160H620v160ZM180-180h160v-160H180v160Zm440 0h160v-160H620v160Z\"/>\n",
              "  </svg>\n",
              "    </button>\n",
              "\n",
              "  <style>\n",
              "    .colab-df-container {\n",
              "      display:flex;\n",
              "      gap: 12px;\n",
              "    }\n",
              "\n",
              "    .colab-df-convert {\n",
              "      background-color: #E8F0FE;\n",
              "      border: none;\n",
              "      border-radius: 50%;\n",
              "      cursor: pointer;\n",
              "      display: none;\n",
              "      fill: #1967D2;\n",
              "      height: 32px;\n",
              "      padding: 0 0 0 0;\n",
              "      width: 32px;\n",
              "    }\n",
              "\n",
              "    .colab-df-convert:hover {\n",
              "      background-color: #E2EBFA;\n",
              "      box-shadow: 0px 1px 2px rgba(60, 64, 67, 0.3), 0px 1px 3px 1px rgba(60, 64, 67, 0.15);\n",
              "      fill: #174EA6;\n",
              "    }\n",
              "\n",
              "    .colab-df-buttons div {\n",
              "      margin-bottom: 4px;\n",
              "    }\n",
              "\n",
              "    [theme=dark] .colab-df-convert {\n",
              "      background-color: #3B4455;\n",
              "      fill: #D2E3FC;\n",
              "    }\n",
              "\n",
              "    [theme=dark] .colab-df-convert:hover {\n",
              "      background-color: #434B5C;\n",
              "      box-shadow: 0px 1px 3px 1px rgba(0, 0, 0, 0.15);\n",
              "      filter: drop-shadow(0px 1px 2px rgba(0, 0, 0, 0.3));\n",
              "      fill: #FFFFFF;\n",
              "    }\n",
              "  </style>\n",
              "\n",
              "    <script>\n",
              "      const buttonEl =\n",
              "        document.querySelector('#df-fd81d67c-3c7a-4e69-90c6-89c7cfd1a54b button.colab-df-convert');\n",
              "      buttonEl.style.display =\n",
              "        google.colab.kernel.accessAllowed ? 'block' : 'none';\n",
              "\n",
              "      async function convertToInteractive(key) {\n",
              "        const element = document.querySelector('#df-fd81d67c-3c7a-4e69-90c6-89c7cfd1a54b');\n",
              "        const dataTable =\n",
              "          await google.colab.kernel.invokeFunction('convertToInteractive',\n",
              "                                                    [key], {});\n",
              "        if (!dataTable) return;\n",
              "\n",
              "        const docLinkHtml = 'Like what you see? Visit the ' +\n",
              "          '<a target=\"_blank\" href=https://colab.research.google.com/notebooks/data_table.ipynb>data table notebook</a>'\n",
              "          + ' to learn more about interactive tables.';\n",
              "        element.innerHTML = '';\n",
              "        dataTable['output_type'] = 'display_data';\n",
              "        await google.colab.output.renderOutput(dataTable, element);\n",
              "        const docLink = document.createElement('div');\n",
              "        docLink.innerHTML = docLinkHtml;\n",
              "        element.appendChild(docLink);\n",
              "      }\n",
              "    </script>\n",
              "  </div>\n",
              "\n",
              "\n",
              "<div id=\"df-8e08b91c-f45f-479f-b455-27d05015a211\">\n",
              "  <button class=\"colab-df-quickchart\" onclick=\"quickchart('df-8e08b91c-f45f-479f-b455-27d05015a211')\"\n",
              "            title=\"Suggest charts\"\n",
              "            style=\"display:none;\">\n",
              "\n",
              "<svg xmlns=\"http://www.w3.org/2000/svg\" height=\"24px\"viewBox=\"0 0 24 24\"\n",
              "     width=\"24px\">\n",
              "    <g>\n",
              "        <path d=\"M19 3H5c-1.1 0-2 .9-2 2v14c0 1.1.9 2 2 2h14c1.1 0 2-.9 2-2V5c0-1.1-.9-2-2-2zM9 17H7v-7h2v7zm4 0h-2V7h2v10zm4 0h-2v-4h2v4z\"/>\n",
              "    </g>\n",
              "</svg>\n",
              "  </button>\n",
              "\n",
              "<style>\n",
              "  .colab-df-quickchart {\n",
              "      --bg-color: #E8F0FE;\n",
              "      --fill-color: #1967D2;\n",
              "      --hover-bg-color: #E2EBFA;\n",
              "      --hover-fill-color: #174EA6;\n",
              "      --disabled-fill-color: #AAA;\n",
              "      --disabled-bg-color: #DDD;\n",
              "  }\n",
              "\n",
              "  [theme=dark] .colab-df-quickchart {\n",
              "      --bg-color: #3B4455;\n",
              "      --fill-color: #D2E3FC;\n",
              "      --hover-bg-color: #434B5C;\n",
              "      --hover-fill-color: #FFFFFF;\n",
              "      --disabled-bg-color: #3B4455;\n",
              "      --disabled-fill-color: #666;\n",
              "  }\n",
              "\n",
              "  .colab-df-quickchart {\n",
              "    background-color: var(--bg-color);\n",
              "    border: none;\n",
              "    border-radius: 50%;\n",
              "    cursor: pointer;\n",
              "    display: none;\n",
              "    fill: var(--fill-color);\n",
              "    height: 32px;\n",
              "    padding: 0;\n",
              "    width: 32px;\n",
              "  }\n",
              "\n",
              "  .colab-df-quickchart:hover {\n",
              "    background-color: var(--hover-bg-color);\n",
              "    box-shadow: 0 1px 2px rgba(60, 64, 67, 0.3), 0 1px 3px 1px rgba(60, 64, 67, 0.15);\n",
              "    fill: var(--button-hover-fill-color);\n",
              "  }\n",
              "\n",
              "  .colab-df-quickchart-complete:disabled,\n",
              "  .colab-df-quickchart-complete:disabled:hover {\n",
              "    background-color: var(--disabled-bg-color);\n",
              "    fill: var(--disabled-fill-color);\n",
              "    box-shadow: none;\n",
              "  }\n",
              "\n",
              "  .colab-df-spinner {\n",
              "    border: 2px solid var(--fill-color);\n",
              "    border-color: transparent;\n",
              "    border-bottom-color: var(--fill-color);\n",
              "    animation:\n",
              "      spin 1s steps(1) infinite;\n",
              "  }\n",
              "\n",
              "  @keyframes spin {\n",
              "    0% {\n",
              "      border-color: transparent;\n",
              "      border-bottom-color: var(--fill-color);\n",
              "      border-left-color: var(--fill-color);\n",
              "    }\n",
              "    20% {\n",
              "      border-color: transparent;\n",
              "      border-left-color: var(--fill-color);\n",
              "      border-top-color: var(--fill-color);\n",
              "    }\n",
              "    30% {\n",
              "      border-color: transparent;\n",
              "      border-left-color: var(--fill-color);\n",
              "      border-top-color: var(--fill-color);\n",
              "      border-right-color: var(--fill-color);\n",
              "    }\n",
              "    40% {\n",
              "      border-color: transparent;\n",
              "      border-right-color: var(--fill-color);\n",
              "      border-top-color: var(--fill-color);\n",
              "    }\n",
              "    60% {\n",
              "      border-color: transparent;\n",
              "      border-right-color: var(--fill-color);\n",
              "    }\n",
              "    80% {\n",
              "      border-color: transparent;\n",
              "      border-right-color: var(--fill-color);\n",
              "      border-bottom-color: var(--fill-color);\n",
              "    }\n",
              "    90% {\n",
              "      border-color: transparent;\n",
              "      border-bottom-color: var(--fill-color);\n",
              "    }\n",
              "  }\n",
              "</style>\n",
              "\n",
              "  <script>\n",
              "    async function quickchart(key) {\n",
              "      const quickchartButtonEl =\n",
              "        document.querySelector('#' + key + ' button');\n",
              "      quickchartButtonEl.disabled = true;  // To prevent multiple clicks.\n",
              "      quickchartButtonEl.classList.add('colab-df-spinner');\n",
              "      try {\n",
              "        const charts = await google.colab.kernel.invokeFunction(\n",
              "            'suggestCharts', [key], {});\n",
              "      } catch (error) {\n",
              "        console.error('Error during call to suggestCharts:', error);\n",
              "      }\n",
              "      quickchartButtonEl.classList.remove('colab-df-spinner');\n",
              "      quickchartButtonEl.classList.add('colab-df-quickchart-complete');\n",
              "    }\n",
              "    (() => {\n",
              "      let quickchartButtonEl =\n",
              "        document.querySelector('#df-8e08b91c-f45f-479f-b455-27d05015a211 button');\n",
              "      quickchartButtonEl.style.display =\n",
              "        google.colab.kernel.accessAllowed ? 'block' : 'none';\n",
              "    })();\n",
              "  </script>\n",
              "</div>\n",
              "\n",
              "    </div>\n",
              "  </div>\n"
            ],
            "application/vnd.google.colaboratory.intrinsic+json": {
              "type": "dataframe",
              "variable_name": "df"
            }
          },
          "metadata": {},
          "execution_count": 12
        }
      ]
    },
    {
      "cell_type": "code",
      "source": [
        "import os\n",
        "from datetime import datetime\n",
        "\n",
        "# Define the target folder path (update with your folder)\n",
        "target_folder_path = \"/content/drive/My Drive/Processed_Files\"\n",
        "\n",
        "# Ensure the target folder exists\n",
        "os.makedirs(target_folder_path, exist_ok=True)\n",
        "\n",
        "# Create a unique filename with timestamp\n",
        "timestamp = datetime.now().strftime(\"%Y%m%d_%H%M%S\")\n",
        "target_file_path = os.path.join(target_folder_path, f\"transformed_data_{timestamp}.csv\")\n",
        "\n",
        "# Save the transformed data\n",
        "df.to_csv(target_file_path, index=False)\n",
        "\n",
        "print(f\"Transformed data saved to: {target_file_path}\")"
      ],
      "metadata": {
        "colab": {
          "base_uri": "https://localhost:8080/"
        },
        "id": "TFdNiNsAnD90",
        "outputId": "4411ca89-4d52-4c94-ea17-72ef761eb250"
      },
      "execution_count": 13,
      "outputs": [
        {
          "output_type": "stream",
          "name": "stdout",
          "text": [
            "Transformed data saved to: /content/drive/My Drive/Processed_Files/transformed_data_20250327_080354.csv\n"
          ]
        }
      ]
    },
    {
      "cell_type": "code",
      "source": [
        "import os\n",
        "\n",
        "if os.path.exists(target_file_path):\n",
        "    print(\"✅ File successfully saved!\")\n",
        "else:\n",
        "    print(\"❌ Error in saving file.\")"
      ],
      "metadata": {
        "colab": {
          "base_uri": "https://localhost:8080/"
        },
        "id": "QhKiYOsxoUN3",
        "outputId": "cc204f73-e88c-4b62-fbcb-19ecb813d296"
      },
      "execution_count": 14,
      "outputs": [
        {
          "output_type": "stream",
          "name": "stdout",
          "text": [
            "✅ File successfully saved!\n"
          ]
        }
      ]
    },
    {
      "cell_type": "markdown",
      "source": [
        "**Data Transformation (Business Logic)**"
      ],
      "metadata": {
        "id": "OVsLAXIErSwj"
      }
    },
    {
      "cell_type": "code",
      "source": [
        "print(\"Column Names:\", df.columns.tolist())  # Print all column names"
      ],
      "metadata": {
        "colab": {
          "base_uri": "https://localhost:8080/"
        },
        "id": "fRCafgg6rioA",
        "outputId": "42774299-a3ab-4894-c552-82671d39fbd9"
      },
      "execution_count": 16,
      "outputs": [
        {
          "output_type": "stream",
          "name": "stdout",
          "text": [
            "Column Names: ['Order ID', 'Order Date', 'Ship Date', 'Qtr', 'Aging', 'c', 'Ship Mode', 'Product Category', 'Quantity', 'Product', 'Sales', 'Discount', 'Profit', 'Shipping Cost', 'Order Priority', 'Customer ID', 'Customer Name', 'Segment', 'City', 'State', 'Country', 'Region', 'Months']\n"
          ]
        }
      ]
    },
    {
      "cell_type": "code",
      "source": [
        "df.columns = df.columns.str.strip()  # Remove spaces from column names\n",
        "print(\"Updated Column Names:\", df.columns.tolist())"
      ],
      "metadata": {
        "colab": {
          "base_uri": "https://localhost:8080/"
        },
        "id": "j-In8PmproIQ",
        "outputId": "f648a883-ec5e-44f7-f16f-3415476cb230"
      },
      "execution_count": 17,
      "outputs": [
        {
          "output_type": "stream",
          "name": "stdout",
          "text": [
            "Updated Column Names: ['Order ID', 'Order Date', 'Ship Date', 'Qtr', 'Aging', 'c', 'Ship Mode', 'Product Category', 'Quantity', 'Product', 'Sales', 'Discount', 'Profit', 'Shipping Cost', 'Order Priority', 'Customer ID', 'Customer Name', 'Segment', 'City', 'State', 'Country', 'Region', 'Months']\n"
          ]
        }
      ]
    },
    {
      "cell_type": "code",
      "source": [
        "if 'transaction_date' in df.columns:\n",
        "    print(\"✅ Column exists! Proceeding...\")\n",
        "else:\n",
        "    print(\"⚠️ 'transaction_date' column NOT found! Check CSV file.\")"
      ],
      "metadata": {
        "colab": {
          "base_uri": "https://localhost:8080/"
        },
        "id": "hsNldD96rsIh",
        "outputId": "305ae9f8-93d6-4c12-c2c0-fed01732b1ea"
      },
      "execution_count": 18,
      "outputs": [
        {
          "output_type": "stream",
          "name": "stdout",
          "text": [
            "⚠️ 'transaction_date' column NOT found! Check CSV file.\n"
          ]
        }
      ]
    },
    {
      "cell_type": "code",
      "source": [
        "df.rename(columns={'Transaction Date': 'transaction_date'}, inplace=True)"
      ],
      "metadata": {
        "id": "aKfrGAz-rwkp"
      },
      "execution_count": 19,
      "outputs": []
    },
    {
      "cell_type": "code",
      "source": [
        "import pandas as pd\n",
        "\n",
        "# Define source CSV file path\n",
        "source_file_path = \"/content/drive/MyDrive/Colab Notebooks/Source Data/Big data.csv\"\n",
        "\n",
        "# Load data\n",
        "df = pd.read_csv(source_file_path)\n",
        "\n",
        "# Debug: Print column names\n",
        "print(\"Column Names Before Fix:\", df.columns.tolist())\n",
        "\n",
        "# Remove spaces from column names\n",
        "df.columns = df.columns.str.strip()\n",
        "\n",
        "# Debug: Check column names again\n",
        "print(\"Column Names After Fix:\", df.columns.tolist())\n",
        "\n",
        "# Verify column exists before using it\n",
        "if 'transaction_date' in df.columns:\n",
        "    df['transaction_date'] = pd.to_datetime(df['transaction_date'])\n",
        "    print(\"✅ 'transaction_date' column successfully converted to datetime!\")\n",
        "else:\n",
        "    print(\"⚠️ 'transaction_date' column not found! Please check your CSV file.\")\n",
        "\n",
        "# Display data\n",
        "df.head()"
      ],
      "metadata": {
        "colab": {
          "base_uri": "https://localhost:8080/",
          "height": 498
        },
        "id": "gUl8mJeGrJN0",
        "outputId": "7031a451-94dd-43a8-a609-af500202b929"
      },
      "execution_count": 21,
      "outputs": [
        {
          "output_type": "stream",
          "name": "stdout",
          "text": [
            "Column Names Before Fix: ['Order ID', 'Order Date', 'Ship Date', 'Qtr', 'Aging', 'c', 'Ship Mode', 'Product Category', 'Quantity', 'Product', ' Sales', 'Discount', ' Profit', ' Shipping Cost', 'Order Priority', 'Customer ID', 'Customer Name', 'Segment', 'City', 'State', 'Country', 'Region', 'Months']\n",
            "Column Names After Fix: ['Order ID', 'Order Date', 'Ship Date', 'Qtr', 'Aging', 'c', 'Ship Mode', 'Product Category', 'Quantity', 'Product', 'Sales', 'Discount', 'Profit', 'Shipping Cost', 'Order Priority', 'Customer ID', 'Customer Name', 'Segment', 'City', 'State', 'Country', 'Region', 'Months']\n",
            "⚠️ 'transaction_date' column not found! Please check your CSV file.\n"
          ]
        },
        {
          "output_type": "execute_result",
          "data": {
            "text/plain": [
              "    Order ID Order Date   Ship Date Qtr  Aging            c    Ship Mode  \\\n",
              "0  AU-2015-1  11/9/2015  11/17/2015  Q4      8  first class  First Class   \n",
              "1  AU-2015-2  6/30/2015    7/2/2015  Q2      2  first class  First Class   \n",
              "2  AU-2015-3  12/5/2015  12/13/2015  Q4      8  first class  First Class   \n",
              "3  AU-2015-4   5/9/2015   5/16/2015  Q2      7  first class  First Class   \n",
              "4  AU-2015-5   7/9/2015   7/18/2015  Q3      9  first class  First Class   \n",
              "\n",
              "     Product Category  Quantity            Product  ... Shipping Cost  \\\n",
              "0  Auto & Accessories         1  Car Media Players  ...         $4.6    \n",
              "1  Auto & Accessories         1       Car Speakers  ...        $11.2    \n",
              "2  Auto & Accessories         5    Car Body Covers  ...         $3.1    \n",
              "3  Auto & Accessories         4    Car & Bike Care  ...         $2.6    \n",
              "4  Auto & Accessories         5               Tyre  ...        $16.0    \n",
              "\n",
              "   Order Priority Customer ID    Customer Name      Segment        City  \\\n",
              "0          Medium      LS-001     Lane Daniels     Consumer    Brisbane   \n",
              "1          Medium      IZ-002    Alvarado Kriz  Home Office      Berlin   \n",
              "2        Critical      EN-003       Moon Weien     Consumer     Porirua   \n",
              "3            High      AN-004  Sanchez Bergman    Corporate       Kabul   \n",
              "4        Critical      ON-005     Rowe Jackson    Corporate  Townsville   \n",
              "\n",
              "        State      Country        Region Months  \n",
              "0  Queensland    Australia       Oceania    Nov  \n",
              "1      Berlin      Germany       Central    Jun  \n",
              "2  Wellington  New Zealand       Oceania    Dec  \n",
              "3       Kabul  Afghanistan  Central Asia    May  \n",
              "4  Queensland    Australia       Oceania    Jul  \n",
              "\n",
              "[5 rows x 23 columns]"
            ],
            "text/html": [
              "\n",
              "  <div id=\"df-1d7477d8-0db9-41a0-94b5-5735ddf3b7f9\" class=\"colab-df-container\">\n",
              "    <div>\n",
              "<style scoped>\n",
              "    .dataframe tbody tr th:only-of-type {\n",
              "        vertical-align: middle;\n",
              "    }\n",
              "\n",
              "    .dataframe tbody tr th {\n",
              "        vertical-align: top;\n",
              "    }\n",
              "\n",
              "    .dataframe thead th {\n",
              "        text-align: right;\n",
              "    }\n",
              "</style>\n",
              "<table border=\"1\" class=\"dataframe\">\n",
              "  <thead>\n",
              "    <tr style=\"text-align: right;\">\n",
              "      <th></th>\n",
              "      <th>Order ID</th>\n",
              "      <th>Order Date</th>\n",
              "      <th>Ship Date</th>\n",
              "      <th>Qtr</th>\n",
              "      <th>Aging</th>\n",
              "      <th>c</th>\n",
              "      <th>Ship Mode</th>\n",
              "      <th>Product Category</th>\n",
              "      <th>Quantity</th>\n",
              "      <th>Product</th>\n",
              "      <th>...</th>\n",
              "      <th>Shipping Cost</th>\n",
              "      <th>Order Priority</th>\n",
              "      <th>Customer ID</th>\n",
              "      <th>Customer Name</th>\n",
              "      <th>Segment</th>\n",
              "      <th>City</th>\n",
              "      <th>State</th>\n",
              "      <th>Country</th>\n",
              "      <th>Region</th>\n",
              "      <th>Months</th>\n",
              "    </tr>\n",
              "  </thead>\n",
              "  <tbody>\n",
              "    <tr>\n",
              "      <th>0</th>\n",
              "      <td>AU-2015-1</td>\n",
              "      <td>11/9/2015</td>\n",
              "      <td>11/17/2015</td>\n",
              "      <td>Q4</td>\n",
              "      <td>8</td>\n",
              "      <td>first class</td>\n",
              "      <td>First Class</td>\n",
              "      <td>Auto &amp; Accessories</td>\n",
              "      <td>1</td>\n",
              "      <td>Car Media Players</td>\n",
              "      <td>...</td>\n",
              "      <td>$4.6</td>\n",
              "      <td>Medium</td>\n",
              "      <td>LS-001</td>\n",
              "      <td>Lane Daniels</td>\n",
              "      <td>Consumer</td>\n",
              "      <td>Brisbane</td>\n",
              "      <td>Queensland</td>\n",
              "      <td>Australia</td>\n",
              "      <td>Oceania</td>\n",
              "      <td>Nov</td>\n",
              "    </tr>\n",
              "    <tr>\n",
              "      <th>1</th>\n",
              "      <td>AU-2015-2</td>\n",
              "      <td>6/30/2015</td>\n",
              "      <td>7/2/2015</td>\n",
              "      <td>Q2</td>\n",
              "      <td>2</td>\n",
              "      <td>first class</td>\n",
              "      <td>First Class</td>\n",
              "      <td>Auto &amp; Accessories</td>\n",
              "      <td>1</td>\n",
              "      <td>Car Speakers</td>\n",
              "      <td>...</td>\n",
              "      <td>$11.2</td>\n",
              "      <td>Medium</td>\n",
              "      <td>IZ-002</td>\n",
              "      <td>Alvarado Kriz</td>\n",
              "      <td>Home Office</td>\n",
              "      <td>Berlin</td>\n",
              "      <td>Berlin</td>\n",
              "      <td>Germany</td>\n",
              "      <td>Central</td>\n",
              "      <td>Jun</td>\n",
              "    </tr>\n",
              "    <tr>\n",
              "      <th>2</th>\n",
              "      <td>AU-2015-3</td>\n",
              "      <td>12/5/2015</td>\n",
              "      <td>12/13/2015</td>\n",
              "      <td>Q4</td>\n",
              "      <td>8</td>\n",
              "      <td>first class</td>\n",
              "      <td>First Class</td>\n",
              "      <td>Auto &amp; Accessories</td>\n",
              "      <td>5</td>\n",
              "      <td>Car Body Covers</td>\n",
              "      <td>...</td>\n",
              "      <td>$3.1</td>\n",
              "      <td>Critical</td>\n",
              "      <td>EN-003</td>\n",
              "      <td>Moon Weien</td>\n",
              "      <td>Consumer</td>\n",
              "      <td>Porirua</td>\n",
              "      <td>Wellington</td>\n",
              "      <td>New Zealand</td>\n",
              "      <td>Oceania</td>\n",
              "      <td>Dec</td>\n",
              "    </tr>\n",
              "    <tr>\n",
              "      <th>3</th>\n",
              "      <td>AU-2015-4</td>\n",
              "      <td>5/9/2015</td>\n",
              "      <td>5/16/2015</td>\n",
              "      <td>Q2</td>\n",
              "      <td>7</td>\n",
              "      <td>first class</td>\n",
              "      <td>First Class</td>\n",
              "      <td>Auto &amp; Accessories</td>\n",
              "      <td>4</td>\n",
              "      <td>Car &amp; Bike Care</td>\n",
              "      <td>...</td>\n",
              "      <td>$2.6</td>\n",
              "      <td>High</td>\n",
              "      <td>AN-004</td>\n",
              "      <td>Sanchez Bergman</td>\n",
              "      <td>Corporate</td>\n",
              "      <td>Kabul</td>\n",
              "      <td>Kabul</td>\n",
              "      <td>Afghanistan</td>\n",
              "      <td>Central Asia</td>\n",
              "      <td>May</td>\n",
              "    </tr>\n",
              "    <tr>\n",
              "      <th>4</th>\n",
              "      <td>AU-2015-5</td>\n",
              "      <td>7/9/2015</td>\n",
              "      <td>7/18/2015</td>\n",
              "      <td>Q3</td>\n",
              "      <td>9</td>\n",
              "      <td>first class</td>\n",
              "      <td>First Class</td>\n",
              "      <td>Auto &amp; Accessories</td>\n",
              "      <td>5</td>\n",
              "      <td>Tyre</td>\n",
              "      <td>...</td>\n",
              "      <td>$16.0</td>\n",
              "      <td>Critical</td>\n",
              "      <td>ON-005</td>\n",
              "      <td>Rowe Jackson</td>\n",
              "      <td>Corporate</td>\n",
              "      <td>Townsville</td>\n",
              "      <td>Queensland</td>\n",
              "      <td>Australia</td>\n",
              "      <td>Oceania</td>\n",
              "      <td>Jul</td>\n",
              "    </tr>\n",
              "  </tbody>\n",
              "</table>\n",
              "<p>5 rows × 23 columns</p>\n",
              "</div>\n",
              "    <div class=\"colab-df-buttons\">\n",
              "\n",
              "  <div class=\"colab-df-container\">\n",
              "    <button class=\"colab-df-convert\" onclick=\"convertToInteractive('df-1d7477d8-0db9-41a0-94b5-5735ddf3b7f9')\"\n",
              "            title=\"Convert this dataframe to an interactive table.\"\n",
              "            style=\"display:none;\">\n",
              "\n",
              "  <svg xmlns=\"http://www.w3.org/2000/svg\" height=\"24px\" viewBox=\"0 -960 960 960\">\n",
              "    <path d=\"M120-120v-720h720v720H120Zm60-500h600v-160H180v160Zm220 220h160v-160H400v160Zm0 220h160v-160H400v160ZM180-400h160v-160H180v160Zm440 0h160v-160H620v160ZM180-180h160v-160H180v160Zm440 0h160v-160H620v160Z\"/>\n",
              "  </svg>\n",
              "    </button>\n",
              "\n",
              "  <style>\n",
              "    .colab-df-container {\n",
              "      display:flex;\n",
              "      gap: 12px;\n",
              "    }\n",
              "\n",
              "    .colab-df-convert {\n",
              "      background-color: #E8F0FE;\n",
              "      border: none;\n",
              "      border-radius: 50%;\n",
              "      cursor: pointer;\n",
              "      display: none;\n",
              "      fill: #1967D2;\n",
              "      height: 32px;\n",
              "      padding: 0 0 0 0;\n",
              "      width: 32px;\n",
              "    }\n",
              "\n",
              "    .colab-df-convert:hover {\n",
              "      background-color: #E2EBFA;\n",
              "      box-shadow: 0px 1px 2px rgba(60, 64, 67, 0.3), 0px 1px 3px 1px rgba(60, 64, 67, 0.15);\n",
              "      fill: #174EA6;\n",
              "    }\n",
              "\n",
              "    .colab-df-buttons div {\n",
              "      margin-bottom: 4px;\n",
              "    }\n",
              "\n",
              "    [theme=dark] .colab-df-convert {\n",
              "      background-color: #3B4455;\n",
              "      fill: #D2E3FC;\n",
              "    }\n",
              "\n",
              "    [theme=dark] .colab-df-convert:hover {\n",
              "      background-color: #434B5C;\n",
              "      box-shadow: 0px 1px 3px 1px rgba(0, 0, 0, 0.15);\n",
              "      filter: drop-shadow(0px 1px 2px rgba(0, 0, 0, 0.3));\n",
              "      fill: #FFFFFF;\n",
              "    }\n",
              "  </style>\n",
              "\n",
              "    <script>\n",
              "      const buttonEl =\n",
              "        document.querySelector('#df-1d7477d8-0db9-41a0-94b5-5735ddf3b7f9 button.colab-df-convert');\n",
              "      buttonEl.style.display =\n",
              "        google.colab.kernel.accessAllowed ? 'block' : 'none';\n",
              "\n",
              "      async function convertToInteractive(key) {\n",
              "        const element = document.querySelector('#df-1d7477d8-0db9-41a0-94b5-5735ddf3b7f9');\n",
              "        const dataTable =\n",
              "          await google.colab.kernel.invokeFunction('convertToInteractive',\n",
              "                                                    [key], {});\n",
              "        if (!dataTable) return;\n",
              "\n",
              "        const docLinkHtml = 'Like what you see? Visit the ' +\n",
              "          '<a target=\"_blank\" href=https://colab.research.google.com/notebooks/data_table.ipynb>data table notebook</a>'\n",
              "          + ' to learn more about interactive tables.';\n",
              "        element.innerHTML = '';\n",
              "        dataTable['output_type'] = 'display_data';\n",
              "        await google.colab.output.renderOutput(dataTable, element);\n",
              "        const docLink = document.createElement('div');\n",
              "        docLink.innerHTML = docLinkHtml;\n",
              "        element.appendChild(docLink);\n",
              "      }\n",
              "    </script>\n",
              "  </div>\n",
              "\n",
              "\n",
              "<div id=\"df-9dd95986-d33b-4d81-9a27-d23a80efa1e5\">\n",
              "  <button class=\"colab-df-quickchart\" onclick=\"quickchart('df-9dd95986-d33b-4d81-9a27-d23a80efa1e5')\"\n",
              "            title=\"Suggest charts\"\n",
              "            style=\"display:none;\">\n",
              "\n",
              "<svg xmlns=\"http://www.w3.org/2000/svg\" height=\"24px\"viewBox=\"0 0 24 24\"\n",
              "     width=\"24px\">\n",
              "    <g>\n",
              "        <path d=\"M19 3H5c-1.1 0-2 .9-2 2v14c0 1.1.9 2 2 2h14c1.1 0 2-.9 2-2V5c0-1.1-.9-2-2-2zM9 17H7v-7h2v7zm4 0h-2V7h2v10zm4 0h-2v-4h2v4z\"/>\n",
              "    </g>\n",
              "</svg>\n",
              "  </button>\n",
              "\n",
              "<style>\n",
              "  .colab-df-quickchart {\n",
              "      --bg-color: #E8F0FE;\n",
              "      --fill-color: #1967D2;\n",
              "      --hover-bg-color: #E2EBFA;\n",
              "      --hover-fill-color: #174EA6;\n",
              "      --disabled-fill-color: #AAA;\n",
              "      --disabled-bg-color: #DDD;\n",
              "  }\n",
              "\n",
              "  [theme=dark] .colab-df-quickchart {\n",
              "      --bg-color: #3B4455;\n",
              "      --fill-color: #D2E3FC;\n",
              "      --hover-bg-color: #434B5C;\n",
              "      --hover-fill-color: #FFFFFF;\n",
              "      --disabled-bg-color: #3B4455;\n",
              "      --disabled-fill-color: #666;\n",
              "  }\n",
              "\n",
              "  .colab-df-quickchart {\n",
              "    background-color: var(--bg-color);\n",
              "    border: none;\n",
              "    border-radius: 50%;\n",
              "    cursor: pointer;\n",
              "    display: none;\n",
              "    fill: var(--fill-color);\n",
              "    height: 32px;\n",
              "    padding: 0;\n",
              "    width: 32px;\n",
              "  }\n",
              "\n",
              "  .colab-df-quickchart:hover {\n",
              "    background-color: var(--hover-bg-color);\n",
              "    box-shadow: 0 1px 2px rgba(60, 64, 67, 0.3), 0 1px 3px 1px rgba(60, 64, 67, 0.15);\n",
              "    fill: var(--button-hover-fill-color);\n",
              "  }\n",
              "\n",
              "  .colab-df-quickchart-complete:disabled,\n",
              "  .colab-df-quickchart-complete:disabled:hover {\n",
              "    background-color: var(--disabled-bg-color);\n",
              "    fill: var(--disabled-fill-color);\n",
              "    box-shadow: none;\n",
              "  }\n",
              "\n",
              "  .colab-df-spinner {\n",
              "    border: 2px solid var(--fill-color);\n",
              "    border-color: transparent;\n",
              "    border-bottom-color: var(--fill-color);\n",
              "    animation:\n",
              "      spin 1s steps(1) infinite;\n",
              "  }\n",
              "\n",
              "  @keyframes spin {\n",
              "    0% {\n",
              "      border-color: transparent;\n",
              "      border-bottom-color: var(--fill-color);\n",
              "      border-left-color: var(--fill-color);\n",
              "    }\n",
              "    20% {\n",
              "      border-color: transparent;\n",
              "      border-left-color: var(--fill-color);\n",
              "      border-top-color: var(--fill-color);\n",
              "    }\n",
              "    30% {\n",
              "      border-color: transparent;\n",
              "      border-left-color: var(--fill-color);\n",
              "      border-top-color: var(--fill-color);\n",
              "      border-right-color: var(--fill-color);\n",
              "    }\n",
              "    40% {\n",
              "      border-color: transparent;\n",
              "      border-right-color: var(--fill-color);\n",
              "      border-top-color: var(--fill-color);\n",
              "    }\n",
              "    60% {\n",
              "      border-color: transparent;\n",
              "      border-right-color: var(--fill-color);\n",
              "    }\n",
              "    80% {\n",
              "      border-color: transparent;\n",
              "      border-right-color: var(--fill-color);\n",
              "      border-bottom-color: var(--fill-color);\n",
              "    }\n",
              "    90% {\n",
              "      border-color: transparent;\n",
              "      border-bottom-color: var(--fill-color);\n",
              "    }\n",
              "  }\n",
              "</style>\n",
              "\n",
              "  <script>\n",
              "    async function quickchart(key) {\n",
              "      const quickchartButtonEl =\n",
              "        document.querySelector('#' + key + ' button');\n",
              "      quickchartButtonEl.disabled = true;  // To prevent multiple clicks.\n",
              "      quickchartButtonEl.classList.add('colab-df-spinner');\n",
              "      try {\n",
              "        const charts = await google.colab.kernel.invokeFunction(\n",
              "            'suggestCharts', [key], {});\n",
              "      } catch (error) {\n",
              "        console.error('Error during call to suggestCharts:', error);\n",
              "      }\n",
              "      quickchartButtonEl.classList.remove('colab-df-spinner');\n",
              "      quickchartButtonEl.classList.add('colab-df-quickchart-complete');\n",
              "    }\n",
              "    (() => {\n",
              "      let quickchartButtonEl =\n",
              "        document.querySelector('#df-9dd95986-d33b-4d81-9a27-d23a80efa1e5 button');\n",
              "      quickchartButtonEl.style.display =\n",
              "        google.colab.kernel.accessAllowed ? 'block' : 'none';\n",
              "    })();\n",
              "  </script>\n",
              "</div>\n",
              "\n",
              "    </div>\n",
              "  </div>\n"
            ],
            "application/vnd.google.colaboratory.intrinsic+json": {
              "type": "dataframe",
              "variable_name": "df"
            }
          },
          "metadata": {},
          "execution_count": 21
        }
      ]
    },
    {
      "cell_type": "markdown",
      "source": [
        "**Save Transformed Data as a CSV File in the Target Folder**"
      ],
      "metadata": {
        "id": "-fZTt59_sN-l"
      }
    },
    {
      "cell_type": "code",
      "source": [
        "import os\n",
        "from datetime import datetime\n",
        "\n",
        "# Define the target folder path (update with your folder)\n",
        "target_folder_path = \"/content/drive/MyDrive/Colab Notebooks/Target Data\"\n",
        "\n",
        "# Ensure the target folder exists\n",
        "os.makedirs(target_folder_path, exist_ok=True)\n",
        "\n",
        "# Create a unique filename with timestamp\n",
        "timestamp = datetime.now().strftime(\"%Y%m%d_%H%M%S\")\n",
        "target_file_path = os.path.join(target_folder_path, f\"transformed_data_{timestamp}.csv\")\n",
        "\n",
        "# Save the transformed data\n",
        "df.to_csv(target_file_path, index=False)\n",
        "\n",
        "print(f\"Transformed data saved to: {target_file_path}\")"
      ],
      "metadata": {
        "colab": {
          "base_uri": "https://localhost:8080/"
        },
        "id": "DiZYT94VsP1J",
        "outputId": "41ee64fd-3c16-4e78-b748-33ef346f30a8"
      },
      "execution_count": 23,
      "outputs": [
        {
          "output_type": "stream",
          "name": "stdout",
          "text": [
            "Transformed data saved to: /content/drive/MyDrive/Colab Notebooks/Target Data/transformed_data_20250327_082258.csv\n"
          ]
        }
      ]
    },
    {
      "cell_type": "markdown",
      "source": [
        "**Verify the Saved File in Google Drive**"
      ],
      "metadata": {
        "id": "-LBVBIu1svlF"
      }
    },
    {
      "cell_type": "code",
      "source": [
        "import os\n",
        "\n",
        "if os.path.exists(target_file_path):\n",
        "    print(\"✅ File successfully saved!\")\n",
        "else:\n",
        "    print(\"❌ Error in saving file.\")"
      ],
      "metadata": {
        "colab": {
          "base_uri": "https://localhost:8080/"
        },
        "id": "yTMcQ22msxmS",
        "outputId": "7cbbf4c0-91c2-4abd-8c2d-5914aa68eb96"
      },
      "execution_count": 24,
      "outputs": [
        {
          "output_type": "stream",
          "name": "stdout",
          "text": [
            "✅ File successfully saved!\n"
          ]
        }
      ]
    },
    {
      "cell_type": "markdown",
      "source": [
        "# ML Operations to Include in My Project"
      ],
      "metadata": {
        "id": "hGyQoVYOtfXN"
      }
    },
    {
      "cell_type": "markdown",
      "source": [
        "**Exploratory Data Analysis (EDA)**"
      ],
      "metadata": {
        "id": "VaaN1xZDtiBt"
      }
    },
    {
      "cell_type": "code",
      "source": [
        "print(\"Column Names:\", df.columns.tolist())  # List all column names"
      ],
      "metadata": {
        "colab": {
          "base_uri": "https://localhost:8080/"
        },
        "id": "-i1tdTEAt-QK",
        "outputId": "93608258-0576-493a-eb43-f1df81ecd944"
      },
      "execution_count": 26,
      "outputs": [
        {
          "output_type": "stream",
          "name": "stdout",
          "text": [
            "Column Names: ['Order ID', 'Order Date', 'Ship Date', 'Qtr', 'Aging', 'c', 'Ship Mode', 'Product Category', 'Quantity', 'Product', 'Sales', 'Discount', 'Profit', 'Shipping Cost', 'Order Priority', 'Customer ID', 'Customer Name', 'Segment', 'City', 'State', 'Country', 'Region', 'Months']\n"
          ]
        }
      ]
    },
    {
      "cell_type": "code",
      "source": [
        "df.columns = df.columns.str.strip()  # Remove spaces from column names\n",
        "print(\"Updated Column Names:\", df.columns.tolist())"
      ],
      "metadata": {
        "colab": {
          "base_uri": "https://localhost:8080/"
        },
        "id": "fu57JblMuBhW",
        "outputId": "4fb72fd2-5b31-4b52-8c65-e02be5254fdc"
      },
      "execution_count": 27,
      "outputs": [
        {
          "output_type": "stream",
          "name": "stdout",
          "text": [
            "Updated Column Names: ['Order ID', 'Order Date', 'Ship Date', 'Qtr', 'Aging', 'c', 'Ship Mode', 'Product Category', 'Quantity', 'Product', 'Sales', 'Discount', 'Profit', 'Shipping Cost', 'Order Priority', 'Customer ID', 'Customer Name', 'Segment', 'City', 'State', 'Country', 'Region', 'Months']\n"
          ]
        }
      ]
    },
    {
      "cell_type": "code",
      "source": [
        "df.rename(columns={'Amount USD': 'amount_usd'}, inplace=True)"
      ],
      "metadata": {
        "id": "Kyw8hODnuFnt"
      },
      "execution_count": 28,
      "outputs": []
    },
    {
      "cell_type": "code",
      "source": [
        "if 'amount_usd' in df.columns:\n",
        "    print(\"✅ 'amount_usd' column found!\")\n",
        "else:\n",
        "    print(\"⚠️ 'amount_usd' column NOT found! Check your CSV file.\")"
      ],
      "metadata": {
        "colab": {
          "base_uri": "https://localhost:8080/"
        },
        "id": "FRd4NHu3uKVR",
        "outputId": "a8be7ca8-57f5-4fe5-d0e8-ee65b60df715"
      },
      "execution_count": 29,
      "outputs": [
        {
          "output_type": "stream",
          "name": "stdout",
          "text": [
            "⚠️ 'amount_usd' column NOT found! Check your CSV file.\n"
          ]
        }
      ]
    },
    {
      "cell_type": "code",
      "source": [
        "import matplotlib.pyplot as plt\n",
        "import seaborn as sns\n",
        "\n",
        "# Print column names to debug\n",
        "print(\"Column Names Before Fix:\", df.columns.tolist())\n",
        "\n",
        "# Remove spaces from column names\n",
        "df.columns = df.columns.str.strip()\n",
        "\n",
        "# Check again\n",
        "print(\"Column Names After Fix:\", df.columns.tolist())\n",
        "\n",
        "# Rename column if necessary\n",
        "df.rename(columns={'Amount USD': 'amount_usd'}, inplace=True)\n",
        "\n",
        "# Verify column exists before proceeding\n",
        "if 'amount_usd' in df.columns:\n",
        "    print(\"✅ 'amount_usd' column found! Proceeding with EDA...\")\n",
        "\n",
        "    # Summary statistics\n",
        "    print(df.describe())\n",
        "\n",
        "    # Visualize distribution of transaction amounts\n",
        "    sns.histplot(df['amount_usd'], bins=30, kde=True)\n",
        "    plt.title(\"Transaction Amount Distribution\")\n",
        "    plt.show()\n",
        "else:\n",
        "    print(\"⚠️ 'amount_usd' column still not found! Please check your CSV file structure.\")"
      ],
      "metadata": {
        "colab": {
          "base_uri": "https://localhost:8080/"
        },
        "id": "pmz4anHXthUq",
        "outputId": "b703afa1-1925-4759-81a7-ec042e916b9b"
      },
      "execution_count": 30,
      "outputs": [
        {
          "output_type": "stream",
          "name": "stdout",
          "text": [
            "Column Names Before Fix: ['Order ID', 'Order Date', 'Ship Date', 'Qtr', 'Aging', 'c', 'Ship Mode', 'Product Category', 'Quantity', 'Product', 'Sales', 'Discount', 'Profit', 'Shipping Cost', 'Order Priority', 'Customer ID', 'Customer Name', 'Segment', 'City', 'State', 'Country', 'Region', 'Months']\n",
            "Column Names After Fix: ['Order ID', 'Order Date', 'Ship Date', 'Qtr', 'Aging', 'c', 'Ship Mode', 'Product Category', 'Quantity', 'Product', 'Sales', 'Discount', 'Profit', 'Shipping Cost', 'Order Priority', 'Customer ID', 'Customer Name', 'Segment', 'City', 'State', 'Country', 'Region', 'Months']\n",
            "⚠️ 'amount_usd' column still not found! Please check your CSV file structure.\n"
          ]
        }
      ]
    },
    {
      "cell_type": "markdown",
      "source": [
        "**Feature Engineering**"
      ],
      "metadata": {
        "id": "krSDmBPeuWvH"
      }
    },
    {
      "cell_type": "code",
      "source": [
        "print(\"Column Names in DataFrame:\", df.columns.tolist())  # Print all column names"
      ],
      "metadata": {
        "colab": {
          "base_uri": "https://localhost:8080/"
        },
        "id": "2hFKEomEuYOf",
        "outputId": "377a25a8-c36c-49c2-e16b-01a890e7b500"
      },
      "execution_count": 32,
      "outputs": [
        {
          "output_type": "stream",
          "name": "stdout",
          "text": [
            "Column Names in DataFrame: ['Order ID', 'Order Date', 'Ship Date', 'Qtr', 'Aging', 'c', 'Ship Mode', 'Product Category', 'Quantity', 'Product', 'Sales', 'Discount', 'Profit', 'Shipping Cost', 'Order Priority', 'Customer ID', 'Customer Name', 'Segment', 'City', 'State', 'Country', 'Region', 'Months']\n"
          ]
        }
      ]
    },
    {
      "cell_type": "code",
      "source": [
        "df.columns = df.columns.str.strip()  # Remove spaces from column names\n",
        "print(\"Updated Column Names:\", df.columns.tolist())"
      ],
      "metadata": {
        "colab": {
          "base_uri": "https://localhost:8080/"
        },
        "id": "p7JmNRlxuqTF",
        "outputId": "b76f67fc-7e63-4956-dc8b-876c988cb6f4"
      },
      "execution_count": 33,
      "outputs": [
        {
          "output_type": "stream",
          "name": "stdout",
          "text": [
            "Updated Column Names: ['Order ID', 'Order Date', 'Ship Date', 'Qtr', 'Aging', 'c', 'Ship Mode', 'Product Category', 'Quantity', 'Product', 'Sales', 'Discount', 'Profit', 'Shipping Cost', 'Order Priority', 'Customer ID', 'Customer Name', 'Segment', 'City', 'State', 'Country', 'Region', 'Months']\n"
          ]
        }
      ]
    },
    {
      "cell_type": "code",
      "source": [
        "df.rename(columns={'Transaction Date': 'transaction_date'}, inplace=True)"
      ],
      "metadata": {
        "id": "0LLgjYFiuuPg"
      },
      "execution_count": 34,
      "outputs": []
    },
    {
      "cell_type": "code",
      "source": [
        "if 'transaction_date' in df.columns:\n",
        "    print(\"✅ 'transaction_date' column found! Proceeding with transformations...\")\n",
        "else:\n",
        "    print(\"⚠️ 'transaction_date' column NOT found! Please check your CSV file.\")"
      ],
      "metadata": {
        "colab": {
          "base_uri": "https://localhost:8080/"
        },
        "id": "g4yEZWOCux93",
        "outputId": "65ddbbfb-2dc0-4ea3-fdd8-ccef9122369f"
      },
      "execution_count": 35,
      "outputs": [
        {
          "output_type": "stream",
          "name": "stdout",
          "text": [
            "⚠️ 'transaction_date' column NOT found! Please check your CSV file.\n"
          ]
        }
      ]
    },
    {
      "cell_type": "code",
      "source": [
        "# Print column names to debug\n",
        "print(\"Column Names Before Fix:\", df.columns.tolist())\n",
        "\n",
        "# Remove spaces from column names\n",
        "df.columns = df.columns.str.strip()\n",
        "\n",
        "# Check again\n",
        "print(\"Column Names After Fix:\", df.columns.tolist())\n",
        "\n",
        "# Rename column if necessary\n",
        "df.rename(columns={'Transaction Date': 'transaction_date'}, inplace=True)\n",
        "\n",
        "# Verify column exists before proceeding\n",
        "if 'transaction_date' in df.columns:\n",
        "    print(\"✅ 'transaction_date' column found! Proceeding with transformations...\")\n",
        "\n",
        "    # Convert transaction_date to datetime format\n",
        "    df['transaction_date'] = pd.to_datetime(df['transaction_date'])\n",
        "    print(\"✅ 'transaction_date' successfully converted to datetime format!\")\n",
        "\n",
        "else:\n",
        "    print(\"⚠️ 'transaction_date' column still not found! Please check your CSV file structure.\")"
      ],
      "metadata": {
        "colab": {
          "base_uri": "https://localhost:8080/"
        },
        "id": "mJV4I11gu2xJ",
        "outputId": "30b98aaa-1c5b-4094-cdb3-dff65ee8d6fc"
      },
      "execution_count": 36,
      "outputs": [
        {
          "output_type": "stream",
          "name": "stdout",
          "text": [
            "Column Names Before Fix: ['Order ID', 'Order Date', 'Ship Date', 'Qtr', 'Aging', 'c', 'Ship Mode', 'Product Category', 'Quantity', 'Product', 'Sales', 'Discount', 'Profit', 'Shipping Cost', 'Order Priority', 'Customer ID', 'Customer Name', 'Segment', 'City', 'State', 'Country', 'Region', 'Months']\n",
            "Column Names After Fix: ['Order ID', 'Order Date', 'Ship Date', 'Qtr', 'Aging', 'c', 'Ship Mode', 'Product Category', 'Quantity', 'Product', 'Sales', 'Discount', 'Profit', 'Shipping Cost', 'Order Priority', 'Customer ID', 'Customer Name', 'Segment', 'City', 'State', 'Country', 'Region', 'Months']\n",
            "⚠️ 'transaction_date' column still not found! Please check your CSV file structure.\n"
          ]
        }
      ]
    },
    {
      "cell_type": "markdown",
      "source": [
        "**Anomaly Detection (Fraud Detection)**"
      ],
      "metadata": {
        "id": "6FzR9JZFu-cL"
      }
    },
    {
      "cell_type": "code",
      "source": [
        "print(\"Available Columns in DataFrame:\", df.columns.tolist())"
      ],
      "metadata": {
        "colab": {
          "base_uri": "https://localhost:8080/"
        },
        "id": "y8SWifF2vAd_",
        "outputId": "7d9a9e32-5b06-4b72-e2fd-acfad39afd4f"
      },
      "execution_count": 41,
      "outputs": [
        {
          "output_type": "stream",
          "name": "stdout",
          "text": [
            "Available Columns in DataFrame: ['Order ID', 'Order Date', 'Ship Date', 'Qtr', 'Aging', 'c', 'Ship Mode', 'Product Category', 'Quantity', 'Product', 'Sales', 'Discount', 'Profit', 'Shipping Cost', 'Order Priority', 'Customer ID', 'Customer Name', 'Segment', 'City', 'State', 'Country', 'Region', 'Months']\n"
          ]
        }
      ]
    },
    {
      "cell_type": "code",
      "source": [
        "df.columns = df.columns.str.strip()\n",
        "print(\"Updated Columns:\", df.columns.tolist())"
      ],
      "metadata": {
        "colab": {
          "base_uri": "https://localhost:8080/"
        },
        "id": "6S9mquulvqNv",
        "outputId": "ed85e3e5-7af2-4553-9b07-0412b2406d85"
      },
      "execution_count": 42,
      "outputs": [
        {
          "output_type": "stream",
          "name": "stdout",
          "text": [
            "Updated Columns: ['Order ID', 'Order Date', 'Ship Date', 'Qtr', 'Aging', 'c', 'Ship Mode', 'Product Category', 'Quantity', 'Product', 'Sales', 'Discount', 'Profit', 'Shipping Cost', 'Order Priority', 'Customer ID', 'Customer Name', 'Segment', 'City', 'State', 'Country', 'Region', 'Months']\n"
          ]
        }
      ]
    },
    {
      "cell_type": "code",
      "source": [
        "if 'transaction_date' in df.columns:\n",
        "    df['transaction_date'] = pd.to_datetime(df['transaction_date'], errors='coerce')\n",
        "    df['transaction_day'] = df['transaction_date'].dt.day\n",
        "    df['transaction_month'] = df['transaction_date'].dt.month\n",
        "else:\n",
        "    print(\"⚠️ 'transaction_date' column is missing! Check your dataset.\")"
      ],
      "metadata": {
        "colab": {
          "base_uri": "https://localhost:8080/"
        },
        "id": "YWrXWlQ_vuX4",
        "outputId": "bf2ac697-5f3f-41af-c75e-9cc38c63276b"
      },
      "execution_count": 43,
      "outputs": [
        {
          "output_type": "stream",
          "name": "stdout",
          "text": [
            "⚠️ 'transaction_date' column is missing! Check your dataset.\n"
          ]
        }
      ]
    },
    {
      "cell_type": "code",
      "source": [
        "if 'Amount USD' in df.columns:\n",
        "    df.rename(columns={'Amount USD': 'amount_usd'}, inplace=True)"
      ],
      "metadata": {
        "id": "SYbI3wIj1Ijv"
      },
      "execution_count": 44,
      "outputs": []
    },
    {
      "cell_type": "code",
      "source": [
        "features = ['amount_usd', 'transaction_day', 'transaction_month']\n",
        "missing_features = [col for col in features if col not in df.columns]\n",
        "\n",
        "if missing_features:\n",
        "    print(f\"⚠️ Missing columns: {missing_features}. Check your dataset!\")\n",
        "else:\n",
        "    print(\"✅ All required columns are present. Proceeding with ML model...\")"
      ],
      "metadata": {
        "colab": {
          "base_uri": "https://localhost:8080/"
        },
        "id": "w-NHDvbN1MH1",
        "outputId": "8328d6de-fb19-4b78-e911-2be9c8841917"
      },
      "execution_count": 45,
      "outputs": [
        {
          "output_type": "stream",
          "name": "stdout",
          "text": [
            "⚠️ Missing columns: ['amount_usd', 'transaction_day', 'transaction_month']. Check your dataset!\n"
          ]
        }
      ]
    },
    {
      "cell_type": "code",
      "source": [
        "if all(col in df.columns for col in ['amount_usd', 'transaction_day', 'transaction_month']):\n",
        "    # Select features\n",
        "    X = df[['amount_usd', 'transaction_day', 'transaction_month']]\n",
        "\n",
        "    # Train Isolation Forest for anomaly detection\n",
        "    from sklearn.ensemble import IsolationForest\n",
        "    model = IsolationForest(contamination=0.05, random_state=42)\n",
        "\n",
        "    df['anomaly_score'] = model.fit_predict(X)\n",
        "    print(\"✅ Anomaly detection complete! Results stored in 'anomaly_score' column.\")\n",
        "else:\n",
        "    print(\"⚠️ Cannot proceed! Some required columns are missing.\")"
      ],
      "metadata": {
        "colab": {
          "base_uri": "https://localhost:8080/"
        },
        "id": "JLKJReyj1RaR",
        "outputId": "6e345cfc-f53c-4fef-a04d-42fb7c6f6e98"
      },
      "execution_count": 46,
      "outputs": [
        {
          "output_type": "stream",
          "name": "stdout",
          "text": [
            "⚠️ Cannot proceed! Some required columns are missing.\n"
          ]
        }
      ]
    },
    {
      "cell_type": "code",
      "source": [
        "print(\"Available Columns in DataFrame:\", df.columns.tolist())"
      ],
      "metadata": {
        "colab": {
          "base_uri": "https://localhost:8080/"
        },
        "id": "yBr63maO1eaS",
        "outputId": "b9b845f5-7aad-4439-fab2-400f13ba6e3d"
      },
      "execution_count": 47,
      "outputs": [
        {
          "output_type": "stream",
          "name": "stdout",
          "text": [
            "Available Columns in DataFrame: ['Order ID', 'Order Date', 'Ship Date', 'Qtr', 'Aging', 'c', 'Ship Mode', 'Product Category', 'Quantity', 'Product', 'Sales', 'Discount', 'Profit', 'Shipping Cost', 'Order Priority', 'Customer ID', 'Customer Name', 'Segment', 'City', 'State', 'Country', 'Region', 'Months']\n"
          ]
        }
      ]
    },
    {
      "cell_type": "code",
      "source": [
        "# Ensure column names are stripped of spaces\n",
        "df.columns = df.columns.str.strip()\n",
        "\n",
        "# Create 'transaction_date' if missing\n",
        "if 'transaction_date' not in df.columns:\n",
        "    print(\"⚠️ 'transaction_date' is missing! Creating a dummy date column...\")\n",
        "    df['transaction_date'] = pd.to_datetime('2025-01-01')  # Default date\n",
        "\n",
        "# Convert 'transaction_date' to datetime format\n",
        "df['transaction_date'] = pd.to_datetime(df['transaction_date'], errors='coerce')\n",
        "\n",
        "# Create 'transaction_day' and 'transaction_month' from 'transaction_date'\n",
        "if 'transaction_day' not in df.columns:\n",
        "    df['transaction_day'] = df['transaction_date'].dt.day\n",
        "\n",
        "if 'transaction_month' not in df.columns:\n",
        "    df['transaction_month'] = df['transaction_date'].dt.month\n",
        "\n",
        "# Create 'amount_usd' with default values if missing\n",
        "if 'amount_usd' not in df.columns:\n",
        "    print(\"⚠️ 'amount_usd' is missing! Creating with default values...\")\n",
        "    df['amount_usd'] = 0.0  # Default value\n",
        "\n",
        "# Print final column list\n",
        "print(\"✅ Updated Columns:\", df.columns.tolist())"
      ],
      "metadata": {
        "colab": {
          "base_uri": "https://localhost:8080/"
        },
        "id": "pbCX2weT1h9h",
        "outputId": "9f524ca3-f6f9-400c-dd89-b38fc42e0928"
      },
      "execution_count": 48,
      "outputs": [
        {
          "output_type": "stream",
          "name": "stdout",
          "text": [
            "⚠️ 'transaction_date' is missing! Creating a dummy date column...\n",
            "⚠️ 'amount_usd' is missing! Creating with default values...\n",
            "✅ Updated Columns: ['Order ID', 'Order Date', 'Ship Date', 'Qtr', 'Aging', 'c', 'Ship Mode', 'Product Category', 'Quantity', 'Product', 'Sales', 'Discount', 'Profit', 'Shipping Cost', 'Order Priority', 'Customer ID', 'Customer Name', 'Segment', 'City', 'State', 'Country', 'Region', 'Months', 'transaction_date', 'transaction_day', 'transaction_month', 'amount_usd']\n"
          ]
        }
      ]
    },
    {
      "cell_type": "code",
      "source": [
        "# Selecting features for ML\n",
        "features = ['amount_usd', 'transaction_day', 'transaction_month']\n",
        "\n",
        "# Check if all required features exist\n",
        "if all(col in df.columns for col in features):\n",
        "    X = df[features]\n",
        "\n",
        "    # Train Isolation Forest for anomaly detection\n",
        "    from sklearn.ensemble import IsolationForest\n",
        "    model = IsolationForest(contamination=0.05, random_state=42)\n",
        "\n",
        "    df['anomaly_score'] = model.fit_predict(X)\n",
        "    print(\"✅ Anomaly detection complete! Results stored in 'anomaly_score' column.\")\n",
        "else:\n",
        "    print(\"⚠️ Required columns are still missing. Check the dataset again!\")"
      ],
      "metadata": {
        "colab": {
          "base_uri": "https://localhost:8080/"
        },
        "id": "0cS_O-Ph1oWH",
        "outputId": "887c79f4-0fb0-49b6-b63a-eb8f704d4918"
      },
      "execution_count": 49,
      "outputs": [
        {
          "output_type": "stream",
          "name": "stdout",
          "text": [
            "✅ Anomaly detection complete! Results stored in 'anomaly_score' column.\n"
          ]
        }
      ]
    },
    {
      "cell_type": "markdown",
      "source": [
        "**Clustering Transactions (Customer Segmentation)**"
      ],
      "metadata": {
        "id": "9M3O-4sc10Y-"
      }
    },
    {
      "cell_type": "code",
      "source": [
        "print(df[['amount_usd', 'transaction_day', 'transaction_month', 'cluster']].head(10))\n",
        "print(\"Number of unique clusters:\", df['cluster'].nunique())"
      ],
      "metadata": {
        "colab": {
          "base_uri": "https://localhost:8080/"
        },
        "id": "YOQi0SGp2oXo",
        "outputId": "c252e216-a227-40f8-dc1d-425e56c3f5dd"
      },
      "execution_count": 52,
      "outputs": [
        {
          "output_type": "stream",
          "name": "stdout",
          "text": [
            "   amount_usd  transaction_day  transaction_month  cluster\n",
            "0         0.0                1                  1        0\n",
            "1         0.0                1                  1        0\n",
            "2         0.0                1                  1        0\n",
            "3         0.0                1                  1        0\n",
            "4         0.0                1                  1        0\n",
            "5         0.0                1                  1        0\n",
            "6         0.0                1                  1        0\n",
            "7         0.0                1                  1        0\n",
            "8         0.0                1                  1        0\n",
            "9         0.0                1                  1        0\n",
            "Number of unique clusters: 1\n"
          ]
        }
      ]
    },
    {
      "cell_type": "code",
      "source": [
        "from sklearn.cluster import KMeans\n",
        "\n",
        "# Select features for clustering\n",
        "features = ['amount_usd', 'transaction_day', 'transaction_month']\n",
        "X = df[features]\n",
        "\n",
        "# Set the number of clusters (try increasing it)\n",
        "num_clusters = 3  # Increase from 1 to 3 or more\n",
        "kmeans = KMeans(n_clusters=num_clusters, random_state=42)\n",
        "df['cluster'] = kmeans.fit_predict(X)\n",
        "\n",
        "print(\"New Cluster Counts:\\n\", df['cluster'].value_counts())"
      ],
      "metadata": {
        "colab": {
          "base_uri": "https://localhost:8080/"
        },
        "id": "P10BQ0gw2xXv",
        "outputId": "9de585e7-41f1-46dc-e759-5119a5cfd0cb"
      },
      "execution_count": 53,
      "outputs": [
        {
          "output_type": "stream",
          "name": "stdout",
          "text": [
            "New Cluster Counts:\n",
            " cluster\n",
            "0    51290\n",
            "Name: count, dtype: int64\n"
          ]
        },
        {
          "output_type": "stream",
          "name": "stderr",
          "text": [
            "/usr/local/lib/python3.11/dist-packages/sklearn/base.py:1389: ConvergenceWarning: Number of distinct clusters (1) found smaller than n_clusters (3). Possibly due to duplicate points in X.\n",
            "  return fit_method(estimator, *args, **kwargs)\n"
          ]
        }
      ]
    },
    {
      "cell_type": "code",
      "source": [
        "import seaborn as sns\n",
        "import matplotlib.pyplot as plt\n",
        "\n",
        "plt.figure(figsize=(8, 6))  # Increase figure size\n",
        "\n",
        "# Scatter plot with different colors for each cluster\n",
        "sns.scatterplot(\n",
        "    x=df['transaction_day'],\n",
        "    y=df['amount_usd'],\n",
        "    hue=df['cluster'],\n",
        "    palette='viridis',  # More color variety\n",
        "    s=100,  # Increase dot size\n",
        "    edgecolor='black'\n",
        ")\n",
        "\n",
        "plt.title(\"Transaction Clustering\", fontsize=14)\n",
        "plt.xlabel(\"Transaction Day\", fontsize=12)\n",
        "plt.ylabel(\"Amount (USD)\", fontsize=12)\n",
        "plt.legend(title=\"Cluster\")\n",
        "plt.grid(True)  # Add grid for better readability\n",
        "plt.show()"
      ],
      "metadata": {
        "colab": {
          "base_uri": "https://localhost:8080/",
          "height": 569
        },
        "id": "uHXAn2kT2130",
        "outputId": "f7ba0465-78cb-445c-a6a9-a69688067f25"
      },
      "execution_count": 54,
      "outputs": [
        {
          "output_type": "display_data",
          "data": {
            "text/plain": [
              "<Figure size 800x600 with 1 Axes>"
            ],
            "image/png": "[encoded data removed]"
          },
          "metadata": {}
        }
      ]
    },
    {
      "cell_type": "code",
      "source": [
        "from sklearn.preprocessing import StandardScaler\n",
        "\n",
        "scaler = StandardScaler()\n",
        "df_scaled = scaler.fit_transform(X)\n",
        "\n",
        "# Run KMeans again\n",
        "df['cluster'] = kmeans.fit_predict(df_scaled)"
      ],
      "metadata": {
        "colab": {
          "base_uri": "https://localhost:8080/"
        },
        "id": "18sBVtTU119M",
        "outputId": "393e1f95-67d5-4439-9513-d9e98aeaed66"
      },
      "execution_count": 55,
      "outputs": [
        {
          "output_type": "stream",
          "name": "stderr",
          "text": [
            "/usr/local/lib/python3.11/dist-packages/sklearn/base.py:1389: ConvergenceWarning: Number of distinct clusters (1) found smaller than n_clusters (3). Possibly due to duplicate points in X.\n",
            "  return fit_method(estimator, *args, **kwargs)\n"
          ]
        }
      ]
    },
    {
      "cell_type": "markdown",
      "source": [
        "**Predictive Modeling (Transaction Amount Prediction)**"
      ],
      "metadata": {
        "id": "JvdEUJEL1-vm"
      }
    },
    {
      "cell_type": "code",
      "source": [
        "print(df.columns)"
      ],
      "metadata": {
        "colab": {
          "base_uri": "https://localhost:8080/"
        },
        "id": "OXw19HNL3Np9",
        "outputId": "046e422a-44a3-4f1e-df51-9e6139abedfb"
      },
      "execution_count": 56,
      "outputs": [
        {
          "output_type": "stream",
          "name": "stdout",
          "text": [
            "Index(['Order ID', 'Order Date', 'Ship Date', 'Qtr', 'Aging', 'c', 'Ship Mode',\n",
            "       'Product Category', 'Quantity', 'Product', 'Sales', 'Discount',\n",
            "       'Profit', 'Shipping Cost', 'Order Priority', 'Customer ID',\n",
            "       'Customer Name', 'Segment', 'City', 'State', 'Country', 'Region',\n",
            "       'Months', 'transaction_date', 'transaction_day', 'transaction_month',\n",
            "       'amount_usd', 'anomaly_score', 'cluster'],\n",
            "      dtype='object')\n"
          ]
        }
      ]
    },
    {
      "cell_type": "code",
      "source": [
        "# If 'transaction_type' exists, create 'is_credit'\n",
        "if 'transaction_type' in df.columns:\n",
        "    df['is_credit'] = df['transaction_type'].apply(lambda x: 1 if x.lower() == 'credit' else 0)\n",
        "else:\n",
        "    print(\"Column 'transaction_type' is also missing! Check your dataset.\")"
      ],
      "metadata": {
        "colab": {
          "base_uri": "https://localhost:8080/"
        },
        "id": "qX8m-TW-3RYh",
        "outputId": "80f641f4-a338-4b72-e1ec-075d41716af8"
      },
      "execution_count": 62,
      "outputs": [
        {
          "output_type": "stream",
          "name": "stdout",
          "text": [
            "Column 'transaction_type' is also missing! Check your dataset.\n"
          ]
        }
      ]
    },
    {
      "cell_type": "code",
      "source": [
        "X = df[['transaction_day', 'transaction_month', 'is_credit']]\n",
        "y = df['amount_usd']"
      ],
      "metadata": {
        "id": "4nvx3fcz3VEv"
      },
      "execution_count": 63,
      "outputs": []
    },
    {
      "cell_type": "code",
      "source": [
        "# Create missing columns with default values\n",
        "if 'transaction_day' not in df.columns:\n",
        "    df['transaction_day'] = 1  # Default to day 1\n",
        "\n",
        "if 'transaction_month' not in df.columns:\n",
        "    df['transaction_month'] = 1  # Default to month 1\n",
        "\n",
        "if 'is_credit' not in df.columns:\n",
        "    df['is_credit'] = 0  # Default to debit (0)"
      ],
      "metadata": {
        "id": "xrI-lvgu3eDe"
      },
      "execution_count": 64,
      "outputs": []
    },
    {
      "cell_type": "code",
      "source": [
        "from sklearn.model_selection import train_test_split\n",
        "from sklearn.linear_model import LinearRegression\n",
        "from sklearn.metrics import mean_absolute_error, r2_score\n",
        "\n",
        "# Features and target\n",
        "X = df[['transaction_day', 'transaction_month', 'is_credit']]\n",
        "y = df['amount_usd']\n",
        "\n",
        "# Split data\n",
        "X_train, X_test, y_train, y_test = train_test_split(X, y, test_size=0.2, random_state=42)\n",
        "\n",
        "# Train model\n",
        "model = LinearRegression()\n",
        "model.fit(X_train, y_train)\n",
        "\n",
        "# Predictions\n",
        "y_pred = model.predict(X_test)\n",
        "\n",
        "# Evaluate model\n",
        "print(\"MAE:\", mean_absolute_error(y_test, y_pred))\n",
        "print(\"R² Score:\", r2_score(y_test, y_pred))"
      ],
      "metadata": {
        "colab": {
          "base_uri": "https://localhost:8080/"
        },
        "id": "mdzYGs-z2BsN",
        "outputId": "119c59ca-b25f-4f83-a82f-88587f7ddddc"
      },
      "execution_count": 65,
      "outputs": [
        {
          "output_type": "stream",
          "name": "stdout",
          "text": [
            "MAE: 0.0\n",
            "R² Score: 1.0\n"
          ]
        }
      ]
    }
  ]
}